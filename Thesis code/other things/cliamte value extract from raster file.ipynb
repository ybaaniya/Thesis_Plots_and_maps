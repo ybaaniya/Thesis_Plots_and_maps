{
 "cells": [
  {
   "cell_type": "code",
   "execution_count": 2,
   "metadata": {},
   "outputs": [
    {
     "name": "stdout",
     "output_type": "stream",
     "text": [
      "Updated CSV saved to: /Users/yubinbaaniya/Documents/WORLD BIAS/saber workdir/gauge_table_2nd_iteration_deDuplicated_cleaned_with_climate.csv\n"
     ]
    }
   ],
   "source": [
    "import pandas as pd\n",
    "import rasterio\n",
    "from rasterio.sample import sample_gen\n",
    "from rasterio.enums import Resampling\n",
    "import numpy as np\n",
    "\n",
    "# Paths to input files\n",
    "raster_path = \"/Users/yubinbaaniya/Downloads/koppen_geiger_tif (1)/1991_2020/koppen_geiger_0p00833333.tif\"\n",
    "csv_path = \"/Users/yubinbaaniya/Documents/WORLD BIAS/saber workdir/gauge_table_2nd_iteration_deDuplicated cleaned.csv\"\n",
    "output_csv_path = \"/Users/yubinbaaniya/Documents/WORLD BIAS/saber workdir/gauge_table_2nd_iteration_deDuplicated_cleaned_with_climate.csv\"\n",
    "\n",
    "def extract_band_values(raster_path, csv_path, output_csv_path):\n",
    "    # Read the CSV file\n",
    "    df = pd.read_csv(csv_path)\n",
    "\n",
    "    # Check if required columns exist\n",
    "    if 'latitude' not in df.columns or 'longitude' not in df.columns:\n",
    "        raise ValueError(\"CSV file must contain 'latitude' and 'longitude' columns.\")\n",
    "\n",
    "    # Open the raster file\n",
    "    with rasterio.open(raster_path) as src:\n",
    "        # Get nodata value\n",
    "        nodata = src.nodata\n",
    "\n",
    "        # Extract raster values at each point\n",
    "        coords = [(lon, lat) for lon, lat in zip(df['longitude'], df['latitude'])]\n",
    "        band_values = []\n",
    "\n",
    "        for coord in coords:\n",
    "            try:\n",
    "                value = list(src.sample([coord]))[0][0]\n",
    "\n",
    "                # Handle missing data\n",
    "                if value == nodata or np.isnan(value):\n",
    "                    # Use nearest neighbor interpolation\n",
    "                    value = list(\n",
    "                        src.sample(\n",
    "                            [coord],\n",
    "                            indexes=1,\n",
    "                            resampling=Resampling.nearest\n",
    "                        )\n",
    "                    )[0][0]\n",
    "\n",
    "                band_values.append(value)\n",
    "\n",
    "            except Exception as e:\n",
    "                # Handle out-of-bound errors or other issues\n",
    "                band_values.append(None)\n",
    "\n",
    "    # Map band values to climate categories\n",
    "    climate_mapping = {\n",
    "        (1, 3): \"Tropical\",\n",
    "        (4, 7): \"Arid\",\n",
    "        (8, 16): \"Temperate\",\n",
    "        (17, 28): \"Continental\",\n",
    "        (29, 30): \"Polar\"\n",
    "    }\n",
    "\n",
    "    def map_climate(value):\n",
    "        if value is None or np.isnan(value):\n",
    "            return None\n",
    "        for (low, high), climate in climate_mapping.items():\n",
    "            if low <= value <= high:\n",
    "                return climate\n",
    "        return None\n",
    "\n",
    "    # Apply mapping to band values\n",
    "    df['Climate'] = [map_climate(value) for value in band_values]\n",
    "\n",
    "    # Save updated CSV\n",
    "    df.to_csv(output_csv_path, index=False)\n",
    "    print(f\"Updated CSV saved to: {output_csv_path}\")\n",
    "\n",
    "# Call the function\n",
    "extract_band_values(raster_path, csv_path, output_csv_path)\n",
    "\n"
   ]
  }
 ],
 "metadata": {
  "kernelspec": {
   "display_name": "Python 3",
   "language": "python",
   "name": "python3"
  },
  "language_info": {
   "codemirror_mode": {
    "name": "ipython",
    "version": 3
   },
   "file_extension": ".py",
   "mimetype": "text/x-python",
   "name": "python",
   "nbconvert_exporter": "python",
   "pygments_lexer": "ipython3",
   "version": "3.10.0"
  }
 },
 "nbformat": 4,
 "nbformat_minor": 2
}
